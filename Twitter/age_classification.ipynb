{
  "cells": [
    {
      "cell_type": "markdown",
      "source": [
        "# Age classification using Multinomial Naive Bayes classifier"
      ],
      "metadata": {
        "id": "4PXCeNWfFjMf"
      },
      "id": "4PXCeNWfFjMf"
    },
    {
      "cell_type": "code",
      "execution_count": 1,
      "id": "21581975",
      "metadata": {
        "colab": {
          "base_uri": "https://localhost:8080/"
        },
        "id": "21581975",
        "outputId": "b3a84724-66ea-4536-db7a-1a518fc2a969"
      },
      "outputs": [
        {
          "output_type": "stream",
          "name": "stderr",
          "text": [
            "[nltk_data] Downloading package averaged_perceptron_tagger to\n",
            "[nltk_data]     /root/nltk_data...\n",
            "[nltk_data]   Unzipping taggers/averaged_perceptron_tagger.zip.\n",
            "[nltk_data] Downloading package punkt to /root/nltk_data...\n",
            "[nltk_data]   Unzipping tokenizers/punkt.zip.\n",
            "[nltk_data] Downloading package stopwords to /root/nltk_data...\n",
            "[nltk_data]   Unzipping corpora/stopwords.zip.\n"
          ]
        },
        {
          "output_type": "execute_result",
          "data": {
            "text/plain": [
              "True"
            ]
          },
          "metadata": {},
          "execution_count": 1
        }
      ],
      "source": [
        "import pandas as pd\n",
        "import matplotlib.pyplot as plt\n",
        "import seaborn as sns\n",
        "from sklearn.feature_extraction.text import CountVectorizer\n",
        "from sklearn.naive_bayes import MultinomialNB\n",
        "from sklearn.metrics import accuracy_score\n",
        "import nltk\n",
        "nltk.download('averaged_perceptron_tagger')\n",
        "from nltk.tokenize import word_tokenize\n",
        "from nltk.corpus import stopwords\n",
        "nltk.download('punkt')\n",
        "nltk.download('stopwords')\n"
      ]
    },
    {
      "cell_type": "code",
      "source": [
        " # Load your training dataset\n",
        "train_data = pd.read_csv('/content/all_posts_train_with_age_col-2.csv', encoding='ISO-8859-1')\n",
        "\n",
        "# Load your separate dataset for prediction (without age labels)\n",
        "prediction_data = pd.read_csv('/content/all_posts_test_with_age_col-2.csv',encoding='ISO-8859-1')\n",
        "\n",
        "# Define a function to extract part-of-speech tags and preprocess text\n",
        "def preprocess_text(text):\n",
        "    tokens = word_tokenize(text)\n",
        "    tags = nltk.pos_tag(tokens)\n",
        "    filtered_tags = [tag for word, tag in tags if word.lower() not in stopwords.words('english')]\n",
        "    return ' '.join(filtered_tags)\n",
        "\n",
        "# Apply the preprocessing function to the training and prediction datasets\n",
        "train_data['processed_data'] = train_data['Text'].apply(preprocess_text)\n",
        "prediction_data['processed_data'] = prediction_data['Text'].apply(preprocess_text)\n",
        "\n"
      ],
      "metadata": {
        "id": "OIIvighVvzf-"
      },
      "id": "OIIvighVvzf-",
      "execution_count": 2,
      "outputs": []
    },
    {
      "cell_type": "code",
      "execution_count": 3,
      "id": "2a6e3939",
      "metadata": {
        "id": "2a6e3939"
      },
      "outputs": [],
      "source": [
        "# Convert the training text data to a numerical representation using CountVectorizer\n",
        "vectorizer = CountVectorizer()\n",
        "X_train = vectorizer.fit_transform(train_data['Text'])\n",
        "y_train = train_data['Age']\n",
        "\n",
        "# Create and train a Multinomial Naive Bayes classifier\n",
        "clf = MultinomialNB()\n",
        "clf.fit(X_train, y_train)\n",
        "\n",
        "# Convert the prediction text data to the same numerical representation\n",
        "X_pred = vectorizer.transform(prediction_data['Text'])\n",
        "\n",
        "# Predict ages on the separate dataset\n",
        "predicted_ages = clf.predict(X_pred)\n",
        "\n",
        "# Add the predicted ages to the prediction dataset\n",
        "prediction_data['predicted_age'] = predicted_ages\n",
        "\n",
        "# Save the prediction results to a new CSV file\n",
        "prediction_data.to_csv('predicted_ages.csv', index=False)\n"
      ]
    },
    {
      "cell_type": "code",
      "source": [
        "# Load the predicted ages dataset\n",
        "predicted_data = pd.read_csv('predicted_ages.csv')\n",
        "\n",
        "# Group the data by 'predicted_age' and count the number of comments in each age group\n",
        "age_group_counts = predicted_data['predicted_age'].value_counts()\n",
        "\n",
        "# Sort the age group counts by age\n",
        "age_group_counts = age_group_counts.sort_index()\n",
        "\n",
        "# Create a bar plot\n",
        "plt.figure(figsize=(10, 6))\n",
        "age_group_counts.plot(kind='bar')\n",
        "plt.title('Distribution of Comments by Age Group')\n",
        "plt.xlabel('Age Group')\n",
        "plt.ylabel('Number of Comments')\n",
        "plt.xticks(rotation=45)\n",
        "plt.tight_layout()\n",
        "\n",
        "\n",
        "# Show the plot\n",
        "plt.show()"
      ],
      "metadata": {
        "colab": {
          "base_uri": "https://localhost:8080/",
          "height": 577
        },
        "id": "2iUzcXCjDIgi",
        "outputId": "c9dc1002-f6af-44a7-b86c-43088c52cbff"
      },
      "id": "2iUzcXCjDIgi",
      "execution_count": 4,
      "outputs": [
        {
          "output_type": "display_data",
          "data": {
            "text/plain": [
              "<Figure size 1000x600 with 1 Axes>"
            ],
            "image/png": "[encoded data removed]"
          },
          "metadata": {}
        }
      ]
    },
    {
      "cell_type": "markdown",
      "source": [
        "# Sentiment analysis over age groups"
      ],
      "metadata": {
        "id": "PC1l9ckHFfN4"
      },
      "id": "PC1l9ckHFfN4"
    },
    {
      "cell_type": "markdown",
      "source": [],
      "metadata": {
        "id": "MY9ypWB0FiPX"
      },
      "id": "MY9ypWB0FiPX"
    }
  ],
  "metadata": {
    "kernelspec": {
      "display_name": "Python 3 (ipykernel)",
      "language": "python",
      "name": "python3"
    },
    "language_info": {
      "codemirror_mode": {
        "name": "ipython",
        "version": 3
      },
      "file_extension": ".py",
      "mimetype": "text/x-python",
      "name": "python",
      "nbconvert_exporter": "python",
      "pygments_lexer": "ipython3",
      "version": "3.9.13"
    },
    "colab": {
      "provenance": []
    }
  },
  "nbformat": 4,
  "nbformat_minor": 5
}