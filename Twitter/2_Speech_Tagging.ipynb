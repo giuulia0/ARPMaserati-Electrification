{
  "nbformat": 4,
  "nbformat_minor": 0,
  "metadata": {
    "colab": {
      "provenance": []
    },
    "kernelspec": {
      "name": "python3",
      "display_name": "Python 3"
    },
    "language_info": {
      "name": "python"
    }
  },
  "cells": [
    {
      "cell_type": "markdown",
      "source": [
        "Folgore"
      ],
      "metadata": {
        "id": "-P-7mqCBMslX"
      }
    },
    {
      "cell_type": "code",
      "source": [
        "import spacy\n",
        "import csv\n",
        "\n",
        "# Load the SpaCy English model\n",
        "sp = spacy.load('en_core_web_sm')\n",
        "\n",
        "# Function to process a sentence and return the formatted output\n",
        "def process_sentence(sentence):\n",
        "    doc = sp(sentence)\n",
        "    formatted_output = []\n",
        "\n",
        "    for word in doc:\n",
        "        word_info = f'{word.text}/{word.pos_}/{spacy.explain(word.tag_)}'\n",
        "        formatted_output.append(word_info)\n",
        "\n",
        "    return ' '.join(formatted_output)\n",
        "\n",
        "# Read the CSV file and process the comments\n",
        "def process_csv(input_file, output_file):\n",
        "    with open(input_file, 'r', encoding='ISO-8859-1') as csv_file, open(output_file, 'w', encoding='utf-8') as output:\n",
        "        csv_reader = csv.reader(csv_file)\n",
        "        csv_writer = csv.writer(output, delimiter=' ', lineterminator='\\n')\n",
        "\n",
        "        for row in csv_reader:\n",
        "            if len(row) > 0:\n",
        "                comment = row[0]\n",
        "                processed_comment = process_sentence(comment)\n",
        "                csv_writer.writerow([processed_comment])\n",
        "\n",
        "if __name__ == \"__main__\":\n",
        "    input_csv_file = \"/content/FolgoreUPD.csv\"  # Replace with your input CSV file\n",
        "    output_csv_file = 'output_FolgoreUPD.csv'  # Replace with the desired output CSV file\n",
        "\n",
        "    process_csv(input_csv_file, output_csv_file)"
      ],
      "metadata": {
        "id": "w2NcSU6QMr6a"
      },
      "execution_count": null,
      "outputs": []
    },
    {
      "cell_type": "markdown",
      "source": [
        "Formula E"
      ],
      "metadata": {
        "id": "zvVeM95fMpjc"
      }
    },
    {
      "cell_type": "code",
      "source": [
        "input_csv_file = \"/content/UPDMaserati Formula E.csv\"\n",
        "output_csv_file = 'output_FormE.csv'\n",
        "\n",
        "# Read the CSV file and remove null characters\n",
        "with open(input_csv_file, 'r', encoding='ISO-8859-1') as csv_file:\n",
        "    content = csv_file.read()\n",
        "\n",
        "# Remove null characters\n",
        "cleaned_content = content.replace('\\x00', '')\n",
        "\n",
        "# Write the cleaned content to a new CSV file\n",
        "with open(output_csv_file, 'w', encoding='utf-8') as output:\n",
        "    output.write(cleaned_content)\n",
        "\n",
        "# Process the cleaned CSV file\n",
        "process_csv(output_csv_file, 'processed_' + output_csv_file)\n"
      ],
      "metadata": {
        "id": "hpQmdtzNFYn8"
      },
      "execution_count": null,
      "outputs": []
    },
    {
      "cell_type": "code",
      "source": [
        "import spacy\n",
        "import csv\n",
        "\n",
        "# Load the SpaCy English model\n",
        "sp = spacy.load('en_core_web_sm')\n",
        "\n",
        "# Function to process a sentence and return the formatted output\n",
        "def process_sentence(sentence):\n",
        "    doc = sp(sentence)\n",
        "    formatted_output = []\n",
        "\n",
        "    for word in doc:\n",
        "        word_info = f'{word.text}/{word.pos_}/{spacy.explain(word.tag_)}'\n",
        "        formatted_output.append(word_info)\n",
        "\n",
        "    return ' '.join(formatted_output)\n",
        "\n",
        "# Read the CSV file and process the comments\n",
        "def process_csv(input_file, output_file):\n",
        "    with open(input_file, 'r', encoding='ISO-8859-1') as csv_file, open(output_file, 'w', encoding='utf-8') as output:\n",
        "        csv_reader = csv.reader(csv_file)\n",
        "        csv_writer = csv.writer(output, delimiter=' ', lineterminator='\\n')\n",
        "\n",
        "        for row in csv_reader:\n",
        "            if len(row) > 0:\n",
        "                comment = row[0]\n",
        "                processed_comment = process_sentence(comment)\n",
        "                csv_writer.writerow([processed_comment])\n",
        "\n",
        "if __name__ == \"__main__\":\n",
        "    input_csv_file = \"/content/processed_output_FormE.csv\"  # Replace with your input CSV file\n",
        "    output_csv_file = 'output_FormulaEProc.csv'  # Replace with the desired output CSV file\n",
        "\n",
        "    process_csv(input_csv_file, output_csv_file)"
      ],
      "metadata": {
        "id": "QDOJOJonFbzb"
      },
      "execution_count": null,
      "outputs": []
    },
    {
      "cell_type": "markdown",
      "source": [
        "Gran Turismo"
      ],
      "metadata": {
        "id": "WNSHrNI-G2Kr"
      }
    },
    {
      "cell_type": "code",
      "source": [
        "input_csv_file = \"/content/UPDMaserati GranTurismo Folgore.csv\"\n",
        "output_csv_file = 'output_GT.csv'\n",
        "\n",
        "# Read the CSV file and remove null characters\n",
        "with open(input_csv_file, 'r', encoding='ISO-8859-1') as csv_file:\n",
        "    content = csv_file.read()\n",
        "\n",
        "# Remove null characters\n",
        "cleaned_content = content.replace('\\x00', '')\n",
        "\n",
        "# Write the cleaned content to a new CSV file\n",
        "with open(output_csv_file, 'w', encoding='utf-8') as output:\n",
        "    output.write(cleaned_content)\n",
        "\n",
        "# Process the cleaned CSV file\n",
        "process_csv(output_csv_file, 'processed_' + output_csv_file)"
      ],
      "metadata": {
        "id": "9VkJEAoqFnrD"
      },
      "execution_count": null,
      "outputs": []
    },
    {
      "cell_type": "code",
      "source": [
        "import spacy\n",
        "import csv\n",
        "\n",
        "# Load the SpaCy English model\n",
        "sp = spacy.load('en_core_web_sm')\n",
        "\n",
        "# Function to process a sentence and return the formatted output\n",
        "def process_sentence(sentence):\n",
        "    doc = sp(sentence)\n",
        "    formatted_output = []\n",
        "\n",
        "    for word in doc:\n",
        "        word_info = f'{word.text}/{word.pos_}/{spacy.explain(word.tag_)}'\n",
        "        formatted_output.append(word_info)\n",
        "\n",
        "    return ' '.join(formatted_output)\n",
        "\n",
        "# Read the CSV file and process the comments\n",
        "def process_csv(input_file, output_file):\n",
        "    with open(input_file, 'r', encoding='ISO-8859-1') as csv_file, open(output_file, 'w', encoding='utf-8') as output:\n",
        "        csv_reader = csv.reader(csv_file)\n",
        "        csv_writer = csv.writer(output, delimiter=' ', lineterminator='\\n')\n",
        "\n",
        "        for row in csv_reader:\n",
        "            if len(row) > 0:\n",
        "                comment = row[0]\n",
        "                processed_comment = process_sentence(comment)\n",
        "                csv_writer.writerow([processed_comment])\n",
        "\n",
        "if __name__ == \"__main__\":\n",
        "    input_csv_file = \"/content/processed_output_GT.csv\"  # Replace with your input CSV file\n",
        "    output_csv_file = 'output_GTProc.csv'  # Replace with the desired output CSV file\n",
        "\n",
        "    process_csv(input_csv_file, output_csv_file)"
      ],
      "metadata": {
        "id": "3CYShU4FGwCN"
      },
      "execution_count": null,
      "outputs": []
    },
    {
      "cell_type": "code",
      "source": [],
      "metadata": {
        "id": "EWWT8Q-0HAF3"
      },
      "execution_count": null,
      "outputs": []
    }
  ]
}