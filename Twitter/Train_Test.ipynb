{
  "nbformat": 4,
  "nbformat_minor": 0,
  "metadata": {
    "colab": {
      "provenance": []
    },
    "kernelspec": {
      "name": "python3",
      "display_name": "Python 3"
    },
    "language_info": {
      "name": "python"
    }
  },
  "cells": [
    {
      "cell_type": "markdown",
      "source": [
        "# Converting data into training and testing"
      ],
      "metadata": {
        "id": "r18SOOZJCjAH"
      }
    },
    {
      "cell_type": "code",
      "source": [
        "import csv\n",
        "import random\n",
        "from sklearn.model_selection import train_test_split\n",
        "\n",
        "# Read in the CSV data\n",
        "data_filename = \"/content/AllProcessed.csv\"\n",
        "\n",
        "data = []\n",
        "with open(data_filename, 'r') as csv_file:\n",
        "    csv_reader = csv.reader(csv_file)\n",
        "    for row in csv_reader:\n",
        "        data.append(row)\n",
        "\n",
        "# Create a new dataset with the Age Group column added\n",
        "new_data = [data[0] + [\"Age_Group\"]]  # Header row with added column name\n",
        "age_groups = [\"10\", \"20\", \"30\", \"40\"]\n",
        "\n",
        "for row in data[1:]:  # Start from the second row (skip header)\n",
        "    random_age_group = random.choice(age_groups)\n",
        "    new_row = row + [random_age_group]\n",
        "    new_data.append(new_row)\n",
        "\n",
        "# Split the new data into training and testing sets\n",
        "train_data, test_data = train_test_split(new_data, test_size=0.2, random_state=42)  # Adjust the test_size as needed\n",
        "\n",
        "# Save the training and testing data into separate CSV files\n",
        "train_filename = \"/content/all_posts_train_with_age.csv\"\n",
        "test_filename = \"/content/all_posts_test_with_age.csv\"\n",
        "\n",
        "with open(train_filename, 'w', newline='') as train_file:\n",
        "    csv_writer = csv.writer(train_file)\n",
        "    csv_writer.writerows(train_data)\n",
        "\n",
        "with open(test_filename, 'w', newline='') as test_file:\n",
        "    csv_writer = csv.writer(test_file)\n",
        "    csv_writer.writerows(test_data)\n",
        "\n",
        "print(\"Data split and saved into all_posts_train_with_age.csv and all_posts_test_with_age.csv\")\n"
      ],
      "metadata": {
        "colab": {
          "base_uri": "https://localhost:8080/"
        },
        "id": "pt815I2n_4T4",
        "outputId": "45fbff2f-17ee-47f6-9552-f90879037487"
      },
      "execution_count": null,
      "outputs": [
        {
          "output_type": "stream",
          "name": "stdout",
          "text": [
            "Data split and saved into all_posts_train_with_age.csv and all_posts_test_with_age.csv\n"
          ]
        }
      ]
    }
  ]
}